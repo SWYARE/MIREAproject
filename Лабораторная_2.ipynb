{
  "nbformat": 4,
  "nbformat_minor": 0,
  "metadata": {
    "kernelspec": {
      "display_name": "Python 3",
      "language": "python",
      "name": "python3"
    },
    "language_info": {
      "codemirror_mode": {
        "name": "ipython",
        "version": 3
      },
      "file_extension": ".py",
      "mimetype": "text/x-python",
      "name": "python",
      "nbconvert_exporter": "python",
      "pygments_lexer": "ipython3",
      "version": "3.7.6"
    },
    "colab": {
      "provenance": [],
      "toc_visible": true
    }
  },
  "cells": [
    {
      "cell_type": "code",
      "metadata": {
        "id": "exFkotWz7Lk_",
        "outputId": "32940996-2bb1-468c-a95b-da5a1bdecef4",
        "colab": {
          "base_uri": "https://localhost:8080/"
        }
      },
      "source": [
        "%config SqlMagic.style = '_DEPRECATED_DEFAULT'\n",
        "%load_ext sql\n",
        "%sql sqlite:///store.db"
      ],
      "execution_count": 3,
      "outputs": [
        {
          "output_type": "stream",
          "name": "stdout",
          "text": [
            "The sql extension is already loaded. To reload it, use:\n",
            "  %reload_ext sql\n"
          ]
        }
      ]
    },
    {
      "cell_type": "markdown",
      "metadata": {
        "id": "eEAq-gUB7LlF"
      },
      "source": [
        "## Задание 1\n",
        "Вывести 5 самых больших по размеру (в байтах) треков жанра Blues и формата MPEG. Только название и размер.\n"
      ]
    },
    {
      "cell_type": "code",
      "source": [
        "%%sql\n",
        "SELECT t.Name, t.Bytes\n",
        "FROM tracks t\n",
        "JOIN genres g ON t.GenreId = g.GenreId\n",
        "JOIN media_types mt ON t.MediaTypeId\n",
        "WHERE g.Name = 'Blues' and mt.Name = 'MPEG audio file'\n",
        "ORDER BY t.Bytes DESC\n",
        "LIMIT 5"
      ],
      "metadata": {
        "id": "O7MqEcWciQHD",
        "outputId": "4c73d020-3a8c-489b-d384-efbe2505c766",
        "colab": {
          "base_uri": "https://localhost:8080/",
          "height": 182
        }
      },
      "execution_count": 17,
      "outputs": [
        {
          "output_type": "stream",
          "name": "stdout",
          "text": [
            " * sqlite:///store.db\n",
            "Done.\n"
          ]
        },
        {
          "output_type": "execute_result",
          "data": {
            "text/plain": [
              "[(\"Talkin' 'Bout Women Obviously\", 19161377),\n",
              " ('Riviera Paradise', 17232776),\n",
              " ('Title Song', 16501316),\n",
              " ('Old Love', 15780747),\n",
              " ('Wiser Time', 15161907)]"
            ],
            "text/html": [
              "<table>\n",
              "    <thead>\n",
              "        <tr>\n",
              "            <th>Name</th>\n",
              "            <th>Bytes</th>\n",
              "        </tr>\n",
              "    </thead>\n",
              "    <tbody>\n",
              "        <tr>\n",
              "            <td>Talkin&#x27; &#x27;Bout Women Obviously</td>\n",
              "            <td>19161377</td>\n",
              "        </tr>\n",
              "        <tr>\n",
              "            <td>Riviera Paradise</td>\n",
              "            <td>17232776</td>\n",
              "        </tr>\n",
              "        <tr>\n",
              "            <td>Title Song</td>\n",
              "            <td>16501316</td>\n",
              "        </tr>\n",
              "        <tr>\n",
              "            <td>Old Love</td>\n",
              "            <td>15780747</td>\n",
              "        </tr>\n",
              "        <tr>\n",
              "            <td>Wiser Time</td>\n",
              "            <td>15161907</td>\n",
              "        </tr>\n",
              "    </tbody>\n",
              "</table>"
            ]
          },
          "metadata": {},
          "execution_count": 17
        }
      ]
    },
    {
      "cell_type": "markdown",
      "metadata": {
        "id": "IwJ_E91n7LlD"
      },
      "source": [
        "## Задание 2\n",
        "Вывести названия всех треков и их исполнителей для всех треков жанра Rock, приобретенных сотрудниками Oracle.\n"
      ]
    },
    {
      "cell_type": "code",
      "source": [
        "%%sql\n",
        "SELECT t.NAME, ar.Name\n",
        "FROM invoice_items ii\n",
        "JOIN invoices i ON ii.InvoiceId = i.InvoiceId\n",
        "JOIN customers c ON i.CustomerId = c.CustomerId\n",
        "JOIN tracks t ON ii.TrackId = t.TrackId\n",
        "JOIN genres g ON t.GenreId = g.GenreId\n",
        "JOIN albums al ON t.AlbumId = al.AlbumId\n",
        "JOIN artists ar ON al.ArtistId = ar.ArtistId\n",
        "WHERE c.Company = 'Oracle' and g.Name = 'Rock'"
      ],
      "metadata": {
        "id": "QssaMoBeHunF",
        "outputId": "9a88e35c-b59a-4769-f31d-c24f02acac85",
        "colab": {
          "base_uri": "https://localhost:8080/",
          "height": 438
        }
      },
      "execution_count": 20,
      "outputs": [
        {
          "output_type": "stream",
          "name": "stdout",
          "text": [
            " * sqlite:///store.db\n",
            "Done.\n"
          ]
        },
        {
          "output_type": "execute_result",
          "data": {
            "text/plain": [
              "[('Sunday Bloody Sunday', 'U2'),\n",
              " (\"New Year's Day\", 'U2'),\n",
              " (\"That's The Way\", 'Led Zeppelin'),\n",
              " ('Ten Years Gone', 'Led Zeppelin'),\n",
              " ('Achilles Last Stand', 'Led Zeppelin'),\n",
              " ('Tea For One', 'Led Zeppelin'),\n",
              " ('No Quarter', 'Led Zeppelin'),\n",
              " ('Bad Moon Rising', 'Creedence Clearwater Revival'),\n",
              " ('Down On The Corner', 'Creedence Clearwater Revival'),\n",
              " ('Up Around The Bend', 'Creedence Clearwater Revival'),\n",
              " ('Nothing To Say', 'Soundgarden'),\n",
              " ('A Kind Of Magic', 'Queen'),\n",
              " ('I Want To Break Free', 'Queen'),\n",
              " ('Who Wants To Live Forever', 'Queen'),\n",
              " ('The Invisible Man', 'Queen'),\n",
              " ('The Three Sunrises', 'U2'),\n",
              " ('Sweetest Thing', 'U2')]"
            ],
            "text/html": [
              "<table>\n",
              "    <thead>\n",
              "        <tr>\n",
              "            <th>Name</th>\n",
              "            <th>Name_1</th>\n",
              "        </tr>\n",
              "    </thead>\n",
              "    <tbody>\n",
              "        <tr>\n",
              "            <td>Sunday Bloody Sunday</td>\n",
              "            <td>U2</td>\n",
              "        </tr>\n",
              "        <tr>\n",
              "            <td>New Year&#x27;s Day</td>\n",
              "            <td>U2</td>\n",
              "        </tr>\n",
              "        <tr>\n",
              "            <td>That&#x27;s The Way</td>\n",
              "            <td>Led Zeppelin</td>\n",
              "        </tr>\n",
              "        <tr>\n",
              "            <td>Ten Years Gone</td>\n",
              "            <td>Led Zeppelin</td>\n",
              "        </tr>\n",
              "        <tr>\n",
              "            <td>Achilles Last Stand</td>\n",
              "            <td>Led Zeppelin</td>\n",
              "        </tr>\n",
              "        <tr>\n",
              "            <td>Tea For One</td>\n",
              "            <td>Led Zeppelin</td>\n",
              "        </tr>\n",
              "        <tr>\n",
              "            <td>No Quarter</td>\n",
              "            <td>Led Zeppelin</td>\n",
              "        </tr>\n",
              "        <tr>\n",
              "            <td>Bad Moon Rising</td>\n",
              "            <td>Creedence Clearwater Revival</td>\n",
              "        </tr>\n",
              "        <tr>\n",
              "            <td>Down On The Corner</td>\n",
              "            <td>Creedence Clearwater Revival</td>\n",
              "        </tr>\n",
              "        <tr>\n",
              "            <td>Up Around The Bend</td>\n",
              "            <td>Creedence Clearwater Revival</td>\n",
              "        </tr>\n",
              "        <tr>\n",
              "            <td>Nothing To Say</td>\n",
              "            <td>Soundgarden</td>\n",
              "        </tr>\n",
              "        <tr>\n",
              "            <td>A Kind Of Magic</td>\n",
              "            <td>Queen</td>\n",
              "        </tr>\n",
              "        <tr>\n",
              "            <td>I Want To Break Free</td>\n",
              "            <td>Queen</td>\n",
              "        </tr>\n",
              "        <tr>\n",
              "            <td>Who Wants To Live Forever</td>\n",
              "            <td>Queen</td>\n",
              "        </tr>\n",
              "        <tr>\n",
              "            <td>The Invisible Man</td>\n",
              "            <td>Queen</td>\n",
              "        </tr>\n",
              "        <tr>\n",
              "            <td>The Three Sunrises</td>\n",
              "            <td>U2</td>\n",
              "        </tr>\n",
              "        <tr>\n",
              "            <td>Sweetest Thing</td>\n",
              "            <td>U2</td>\n",
              "        </tr>\n",
              "    </tbody>\n",
              "</table>"
            ]
          },
          "metadata": {},
          "execution_count": 20
        }
      ]
    },
    {
      "cell_type": "markdown",
      "metadata": {
        "id": "0mmLXQXr7LlG"
      },
      "source": [
        "## Задание 3\n",
        "Для каждой компании вывести общее количество купленных джазовых композиций (если 0, можно не выводить).\n"
      ]
    },
    {
      "cell_type": "code",
      "source": [
        "%%sql\n",
        "SELECT c.Company as Company, COUNT(ii.TrackId) as jazz_tracks_count\n",
        "FROM invoice_items ii\n",
        "JOIN invoices i on ii.InvoiceId = i.InvoiceId\n",
        "JOIN customers c on i.CustomerId = c.CustomerId\n",
        "JOIN tracks  t ON ii.TrackId = t.TrackId\n",
        "JOIN genres g on t.GenreId = g.GenreId\n",
        "WHERE g.name = 'Jazz' and c.Company IS NOT NULL\n",
        "GROUP by c.Company"
      ],
      "metadata": {
        "id": "pyRnW9HIIZFR",
        "outputId": "22c7670e-66d3-4b3e-f7b9-74eb9e3de8c1",
        "colab": {
          "base_uri": "https://localhost:8080/",
          "height": 246
        }
      },
      "execution_count": 26,
      "outputs": [
        {
          "output_type": "stream",
          "name": "stdout",
          "text": [
            " * sqlite:///store.db\n",
            "Done.\n"
          ]
        },
        {
          "output_type": "execute_result",
          "data": {
            "text/plain": [
              "[('Apple Inc.', 2),\n",
              " ('BMW', 1),\n",
              " ('Google Inc.', 12),\n",
              " ('JetBrains s.r.o.', 3),\n",
              " ('Microsoft Corporation', 15),\n",
              " ('Oracle', 3),\n",
              " ('SAP', 1),\n",
              " ('Telus', 2)]"
            ],
            "text/html": [
              "<table>\n",
              "    <thead>\n",
              "        <tr>\n",
              "            <th>Company</th>\n",
              "            <th>jazz_tracks_count</th>\n",
              "        </tr>\n",
              "    </thead>\n",
              "    <tbody>\n",
              "        <tr>\n",
              "            <td>Apple Inc.</td>\n",
              "            <td>2</td>\n",
              "        </tr>\n",
              "        <tr>\n",
              "            <td>BMW</td>\n",
              "            <td>1</td>\n",
              "        </tr>\n",
              "        <tr>\n",
              "            <td>Google Inc.</td>\n",
              "            <td>12</td>\n",
              "        </tr>\n",
              "        <tr>\n",
              "            <td>JetBrains s.r.o.</td>\n",
              "            <td>3</td>\n",
              "        </tr>\n",
              "        <tr>\n",
              "            <td>Microsoft Corporation</td>\n",
              "            <td>15</td>\n",
              "        </tr>\n",
              "        <tr>\n",
              "            <td>Oracle</td>\n",
              "            <td>3</td>\n",
              "        </tr>\n",
              "        <tr>\n",
              "            <td>SAP</td>\n",
              "            <td>1</td>\n",
              "        </tr>\n",
              "        <tr>\n",
              "            <td>Telus</td>\n",
              "            <td>2</td>\n",
              "        </tr>\n",
              "    </tbody>\n",
              "</table>"
            ]
          },
          "metadata": {},
          "execution_count": 26
        }
      ]
    },
    {
      "cell_type": "markdown",
      "metadata": {
        "id": "M2JDkqnT7LlG"
      },
      "source": [
        "## Задание 4\n",
        "Вывести топ 3 плейлиста по продолжительности (продолжительность плейлиста = сумма длин треков в нём). Только название и продолжительность (в часах).\n"
      ]
    },
    {
      "cell_type": "code",
      "metadata": {
        "id": "isEzp0r0Crzy",
        "outputId": "84adbbf6-8a73-4aa7-ae4d-49395a3fcd17",
        "colab": {
          "base_uri": "https://localhost:8080/",
          "height": 139
        }
      },
      "source": [
        "%%sql\n",
        "SELECT p.Name AS playlist_name, SUM(t.Milliseconds) / 3600000 AS total_duration_hours\n",
        "FROM playlists p\n",
        "JOIN playlist_track pt ON p.PlaylistId = pt.PlaylistId\n",
        "JOIN tracks t ON pt.TrackId = t.TrackId\n",
        "GROUP BY p.PlaylistId\n",
        "ORDER BY total_duration_hours DESC\n",
        "LIMIT 3"
      ],
      "execution_count": 27,
      "outputs": [
        {
          "output_type": "stream",
          "name": "stdout",
          "text": [
            " * sqlite:///store.db\n",
            "Done.\n"
          ]
        },
        {
          "output_type": "execute_result",
          "data": {
            "text/plain": [
              "[('Hidden Gems', 138), ('From That TV Show', 138), ('90’s Music', 10)]"
            ],
            "text/html": [
              "<table>\n",
              "    <thead>\n",
              "        <tr>\n",
              "            <th>playlist_name</th>\n",
              "            <th>total_duration_hours</th>\n",
              "        </tr>\n",
              "    </thead>\n",
              "    <tbody>\n",
              "        <tr>\n",
              "            <td>Hidden Gems</td>\n",
              "            <td>138</td>\n",
              "        </tr>\n",
              "        <tr>\n",
              "            <td>From That TV Show</td>\n",
              "            <td>138</td>\n",
              "        </tr>\n",
              "        <tr>\n",
              "            <td>90’s Music</td>\n",
              "            <td>10</td>\n",
              "        </tr>\n",
              "    </tbody>\n",
              "</table>"
            ]
          },
          "metadata": {},
          "execution_count": 27
        }
      ]
    },
    {
      "cell_type": "markdown",
      "metadata": {
        "id": "Ni7Mi7ur7LlH"
      },
      "source": [
        "## Задание 5\n",
        "Для каждого набора (жанр, тип медиа) вывести количество треков в них, причем вывести только те наборы, для которых **все** треки стоят больше 1$ и для которых в наборе есть хотя бы один трек."
      ]
    },
    {
      "cell_type": "code",
      "source": [
        "%%sql\n",
        "SELECT g.Name AS genre_name, mt.Name as media_type_name, COUNT(t.TrackId) AS tracks_count\n",
        "FROM tracks t\n",
        "JOIN genres g ON t.GenreId = g.GenreId\n",
        "JOIN media_types mt ON t.MediaTypeId = mt.MediaTypeId\n",
        "Where t.UnitPrice > 1 AND NOT EXISTS (\n",
        "  SELECT 1\n",
        "  FROM tracks t_sub\n",
        "  WHERE t_sub.GenreId = t.GenreId\n",
        "  AND t_sub.MediaTypeId = t.MediaTypeId\n",
        "  AND t_sub.UnitPrice <= 1\n",
        ")\n",
        "GROUP BY g.GenreId, g.Name, mt.MediaTypeId, mt.Name"
      ],
      "metadata": {
        "id": "Y-psouvxm9vF",
        "outputId": "4eba56cc-5dbf-4de7-b665-9843ac678b71",
        "colab": {
          "base_uri": "https://localhost:8080/",
          "height": 182
        }
      },
      "execution_count": 28,
      "outputs": [
        {
          "output_type": "stream",
          "name": "stdout",
          "text": [
            " * sqlite:///store.db\n",
            "Done.\n"
          ]
        },
        {
          "output_type": "execute_result",
          "data": {
            "text/plain": [
              "[('Blues', 'AAC audio file', 9),\n",
              " ('Science Fiction', 'MPEG audio file', 13),\n",
              " ('TV Shows', 'MPEG audio file', 93),\n",
              " ('Sci Fi & Fantasy', 'MPEG audio file', 26),\n",
              " ('Comedy', 'MPEG audio file', 17)]"
            ],
            "text/html": [
              "<table>\n",
              "    <thead>\n",
              "        <tr>\n",
              "            <th>genre_name</th>\n",
              "            <th>media_type_name</th>\n",
              "            <th>tracks_count</th>\n",
              "        </tr>\n",
              "    </thead>\n",
              "    <tbody>\n",
              "        <tr>\n",
              "            <td>Blues</td>\n",
              "            <td>AAC audio file</td>\n",
              "            <td>9</td>\n",
              "        </tr>\n",
              "        <tr>\n",
              "            <td>Science Fiction</td>\n",
              "            <td>MPEG audio file</td>\n",
              "            <td>13</td>\n",
              "        </tr>\n",
              "        <tr>\n",
              "            <td>TV Shows</td>\n",
              "            <td>MPEG audio file</td>\n",
              "            <td>93</td>\n",
              "        </tr>\n",
              "        <tr>\n",
              "            <td>Sci Fi &amp; Fantasy</td>\n",
              "            <td>MPEG audio file</td>\n",
              "            <td>26</td>\n",
              "        </tr>\n",
              "        <tr>\n",
              "            <td>Comedy</td>\n",
              "            <td>MPEG audio file</td>\n",
              "            <td>17</td>\n",
              "        </tr>\n",
              "    </tbody>\n",
              "</table>"
            ]
          },
          "metadata": {},
          "execution_count": 28
        }
      ]
    },
    {
      "cell_type": "code",
      "source": [],
      "metadata": {
        "id": "KC8uZd-rJht5"
      },
      "execution_count": null,
      "outputs": []
    }
  ]
}