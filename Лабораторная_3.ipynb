{
  "nbformat": 4,
  "nbformat_minor": 0,
  "metadata": {
    "kernelspec": {
      "display_name": "Python 3",
      "language": "python",
      "name": "python3"
    },
    "language_info": {
      "codemirror_mode": {
        "name": "ipython",
        "version": 3
      },
      "file_extension": ".py",
      "mimetype": "text/x-python",
      "name": "python",
      "nbconvert_exporter": "python",
      "pygments_lexer": "ipython3",
      "version": "3.7.6"
    },
    "colab": {
      "provenance": []
    }
  },
  "cells": [
    {
      "cell_type": "code",
      "metadata": {
        "id": "exFkotWz7Lk_"
      },
      "source": [
        "\n",
        "%load_ext sql\n",
        "%sql sqlite:///store.db"
      ],
      "execution_count": 1,
      "outputs": []
    },
    {
      "cell_type": "code",
      "source": [
        "%config SqlMagic.style = '_DEPRECATED_DEFAULT'"
      ],
      "metadata": {
        "id": "_abOHf9hM7M6"
      },
      "execution_count": 3,
      "outputs": []
    },
    {
      "cell_type": "markdown",
      "metadata": {
        "id": "8Nwojma57LlH"
      },
      "source": [
        "## Задание 1\n",
        "Вывести страну, где популярнее всего группа Iron Maiden (т.е. треков куплено больше, чем в других странах). Также вывести кол-во купленных треков."
      ]
    },
    {
      "cell_type": "code",
      "source": [
        "%%sql\n",
        "SELECT c.Country as Country, COUNT(t.TrackId) as total_count\n",
        "FROM tracks t\n",
        "JOIN invoice_items ii ON t.Trackid = ii.Trackid\n",
        "JOIN invoices i ON ii.InvoiceId = i.InvoiceId\n",
        "JOIN customers c ON i.CustomerId = c.CustomerId\n",
        "GROUP BY Country\n",
        "ORDER BY total_count DESC\n",
        "LIMIT 1"
      ],
      "metadata": {
        "id": "8CRlncp2EfD1",
        "outputId": "e2576832-ee4d-495e-eead-1166ba102b22",
        "colab": {
          "base_uri": "https://localhost:8080/",
          "height": 95
        }
      },
      "execution_count": 6,
      "outputs": [
        {
          "output_type": "stream",
          "name": "stdout",
          "text": [
            " * sqlite:///store.db\n",
            "Done.\n"
          ]
        },
        {
          "output_type": "execute_result",
          "data": {
            "text/plain": [
              "[('USA', 494)]"
            ],
            "text/html": [
              "<table>\n",
              "    <thead>\n",
              "        <tr>\n",
              "            <th>Country</th>\n",
              "            <th>total_count</th>\n",
              "        </tr>\n",
              "    </thead>\n",
              "    <tbody>\n",
              "        <tr>\n",
              "            <td>USA</td>\n",
              "            <td>494</td>\n",
              "        </tr>\n",
              "    </tbody>\n",
              "</table>"
            ]
          },
          "metadata": {},
          "execution_count": 6
        }
      ]
    },
    {
      "cell_type": "markdown",
      "metadata": {
        "id": "nLIbkB-w_aD6"
      },
      "source": [
        "## Задание 2\n",
        "Вывести \"средний по длине\" трек, среди приобретённых компаниями (только клиентами из конкретных компаний) после 22 апреля 2023 года.\n",
        "\"Средний по длине\" = максимально близкий к среднему значению множества треков по длине (не медиана!). Если таких треков несколько, вывести первый по алфавиту."
      ]
    },
    {
      "cell_type": "code",
      "source": [
        "%%sql\n",
        "SELECT t.Name as track_name, c.Company as Company, t.milliseconds / 60000.0 as total_duration_min\n",
        "FROM tracks t\n",
        "JOIN invoice_items ii ON t.TrackId = ii.TrackId\n",
        "JOIN invoices i ON ii.InvoiceId = i.InvoiceId\n",
        "JOIN customers c ON i.CustomerId = c.CustomerId\n",
        "WHERE i.InvoiceDate > '2023-04-22' AND c.Company IS NOT NULL\n",
        "ORDER BY (ABS(total_duration_min - AVG(total_duration_min))) and track_name ASC"
      ],
      "metadata": {
        "id": "HyW9LeYPDBnN",
        "outputId": "f5df5b3f-ab72-4dcc-a606-1c83bcb36eb9",
        "colab": {
          "base_uri": "https://localhost:8080/"
        }
      },
      "execution_count": 13,
      "outputs": [
        {
          "output_type": "stream",
          "name": "stdout",
          "text": [
            " * sqlite:///store.db\n",
            "(sqlite3.OperationalError) misuse of aggregate: AVG()\n",
            "[SQL: SELECT t.Name as track_name, c.Company as Company, t.milliseconds / 60000.0 as total_duration_min\n",
            "FROM tracks t\n",
            "JOIN invoice_items ii ON t.TrackId = ii.TrackId\n",
            "JOIN invoices i ON ii.InvoiceId = i.InvoiceId\n",
            "JOIN customers c ON i.CustomerId = c.CustomerId \n",
            "WHERE i.InvoiceDate > '2023-04-22' AND c.Company IS NOT NULL \n",
            "ORDER BY (ABS(total_duration_min - AVG(total_duration_min))) and track_name ASC]\n",
            "(Background on this error at: https://sqlalche.me/e/20/e3q8)\n"
          ]
        }
      ]
    },
    {
      "cell_type": "markdown",
      "source": [
        "## Задание 3\n",
        "\n",
        "Вывести треки, встречающиеся и в нескольких плейлистах, и в нескольких заказах одновременно."
      ],
      "metadata": {
        "id": "Wc2ruoHvkovl"
      }
    },
    {
      "cell_type": "code",
      "source": [],
      "metadata": {
        "id": "2Mautq6ExOFt"
      },
      "execution_count": null,
      "outputs": []
    },
    {
      "cell_type": "markdown",
      "metadata": {
        "id": "epfFVrwEAQzY"
      },
      "source": [
        "## Задание 4\n",
        "Вывести альбом, который является максимальным по продолжительности среди альбомов со стоимостью, большей средней цены за альбом *(цена альбома = сумма цен треков, продолжительность считать аналогично)*."
      ]
    },
    {
      "cell_type": "code",
      "source": [],
      "metadata": {
        "id": "2mgltSeo8QYv"
      },
      "execution_count": null,
      "outputs": []
    },
    {
      "cell_type": "markdown",
      "metadata": {
        "id": "Bu60tw0tADem"
      },
      "source": [
        "## Задание 5\n",
        "Для каждого исполнителя, у которого есть песни нескольких жанров, найти жанр, по которому он заработал наибольшее количество денег, а также вывести процентное соотношение суммы, заработанной исполнителем по этому жанру к общей сумме заработанных денег. Формат вывода: имя исполнителя, жанр, соотношение."
      ]
    },
    {
      "cell_type": "code",
      "source": [],
      "metadata": {
        "id": "R4-0ISBy3eiI"
      },
      "execution_count": null,
      "outputs": []
    }
  ]
}