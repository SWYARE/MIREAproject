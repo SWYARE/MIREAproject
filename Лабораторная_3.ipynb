{
  "nbformat": 4,
  "nbformat_minor": 0,
  "metadata": {
    "kernelspec": {
      "display_name": "Python 3",
      "language": "python",
      "name": "python3"
    },
    "language_info": {
      "codemirror_mode": {
        "name": "ipython",
        "version": 3
      },
      "file_extension": ".py",
      "mimetype": "text/x-python",
      "name": "python",
      "nbconvert_exporter": "python",
      "pygments_lexer": "ipython3",
      "version": "3.7.6"
    },
    "colab": {
      "provenance": []
    }
  },
  "cells": [
    {
      "cell_type": "code",
      "metadata": {
        "id": "exFkotWz7Lk_"
      },
      "source": [
        "%load_ext sql\n",
        "%sql sqlite:///store.db"
      ],
      "execution_count": 1,
      "outputs": []
    },
    {
      "cell_type": "code",
      "source": [
        "%config SqlMagic.style = '_DEPRECATED_DEFAULT'"
      ],
      "metadata": {
        "id": "k9zIHChA7jxM"
      },
      "execution_count": 2,
      "outputs": []
    },
    {
      "cell_type": "markdown",
      "metadata": {
        "id": "8Nwojma57LlH"
      },
      "source": [
        "## Задание 1\n",
        "Вывести страну, где популярнее всего группа Iron Maiden (т.е. треков куплено больше, чем в других странах). Также вывести кол-во купленных треков."
      ]
    },
    {
      "cell_type": "code",
      "source": [
        "%%sql\n",
        "SELECT c.Country as Country, SUM(ii.Quantity) as tracks_count\n",
        "FROM tracks t\n",
        "JOIN invoice_items ii ON t.TrackId = ii.TrackId\n",
        "JOIN invoices i ON ii.InvoiceId = i.InvoiceId\n",
        "JOIN customers c ON i.CustomerId = c.CustomerId\n",
        "JOIN albums a ON t.AlbumId = a.AlbumId\n",
        "JOIN artists ar ON a.ArtistId = ar.ArtistId\n",
        "WHERE ar.Name like 'Iron Maiden'\n",
        "GROUP BY Country\n",
        "ORDER BY COUNT(t.TrackId) DESC\n",
        "LIMIT 1"
      ],
      "metadata": {
        "id": "8CRlncp2EfD1",
        "outputId": "6ada39af-b775-420b-a8f6-1aab84aa6c82",
        "colab": {
          "base_uri": "https://localhost:8080/",
          "height": 96
        }
      },
      "execution_count": 13,
      "outputs": [
        {
          "output_type": "stream",
          "name": "stdout",
          "text": [
            " * sqlite:///store.db\n",
            "Done.\n"
          ]
        },
        {
          "output_type": "execute_result",
          "data": {
            "text/plain": [
              "[('USA', 61)]"
            ],
            "text/html": [
              "<table>\n",
              "    <thead>\n",
              "        <tr>\n",
              "            <th>Country</th>\n",
              "            <th>tracks_count</th>\n",
              "        </tr>\n",
              "    </thead>\n",
              "    <tbody>\n",
              "        <tr>\n",
              "            <td>USA</td>\n",
              "            <td>61</td>\n",
              "        </tr>\n",
              "    </tbody>\n",
              "</table>"
            ]
          },
          "metadata": {},
          "execution_count": 13
        }
      ]
    },
    {
      "cell_type": "markdown",
      "metadata": {
        "id": "nLIbkB-w_aD6"
      },
      "source": [
        "## Задание 2\n",
        "Вывести \"средний по длине\" трек, среди приобретённых компаниями (только клиентами из конкретных компаний) после 22 апреля 2023 года.\n",
        "\"Средний по длине\" = максимально близкий к среднему значению множества треков по длине (не медиана!). Если таких треков несколько, вывести первый по алфавиту."
      ]
    },
    {
      "cell_type": "code",
      "source": [
        "%%sql\n",
        "SELECT t.Name as track_name, t.Milliseconds as track_length\n",
        "FROM tracks t\n",
        "JOIN invoice_items ii ON t.TrackId = ii.TrackId\n",
        "JOIN invoices i ON ii.InvoiceId = i.InvoiceId\n",
        "JOIN customers c ON i.CustomerId = c.CustomerId\n",
        "WHERE c.Company IS NOT NULL AND i.InvoiceDate > '2023-04-22'\n",
        "ORDER BY ABS(t.Milliseconds - (SELECT AVG(Milliseconds) FROM tracks)) and t.Name\n",
        "LIMIT 1"
      ],
      "metadata": {
        "id": "HyW9LeYPDBnN",
        "outputId": "0084e5bd-7be8-425e-c9ba-9c3fa92e4877",
        "colab": {
          "base_uri": "https://localhost:8080/",
          "height": 96
        }
      },
      "execution_count": 19,
      "outputs": [
        {
          "output_type": "stream",
          "name": "stdout",
          "text": [
            " * sqlite:///store.db\n",
            "Done.\n"
          ]
        },
        {
          "output_type": "execute_result",
          "data": {
            "text/plain": [
              "[(1601, 'No Quarter', 420493)]"
            ],
            "text/html": [
              "<table>\n",
              "    <thead>\n",
              "        <tr>\n",
              "            <th>TrackId</th>\n",
              "            <th>Name</th>\n",
              "            <th>Milliseconds</th>\n",
              "        </tr>\n",
              "    </thead>\n",
              "    <tbody>\n",
              "        <tr>\n",
              "            <td>1601</td>\n",
              "            <td>No Quarter</td>\n",
              "            <td>420493</td>\n",
              "        </tr>\n",
              "    </tbody>\n",
              "</table>"
            ]
          },
          "metadata": {},
          "execution_count": 19
        }
      ]
    },
    {
      "cell_type": "markdown",
      "source": [
        "## Задание 3\n",
        "\n",
        "Вывести треки, встречающиеся и в нескольких плейлистах, и в нескольких заказах одновременно."
      ],
      "metadata": {
        "id": "Wc2ruoHvkovl"
      }
    },
    {
      "cell_type": "code",
      "source": [
        "%%sql\n",
        "SELECT t.Name as track_name\n",
        "FROM tracks t\n",
        "JOIN playlist_track pt ON t.TrackId = pt.TrackId\n",
        "JOIN invoice_items ii ON t.TrackId = ii.TrackId\n",
        "GROUP BY t.TrackId\n",
        "HAVING COUNT(DISTINCT pt.PlaylistId) > 1 AND COUNT(DISTINCT ii.InvoiceLineId) > 1"
      ],
      "metadata": {
        "id": "2Mautq6ExOFt",
        "outputId": "e334c13d-7008-491f-85fd-e58373e60866",
        "colab": {
          "base_uri": "https://localhost:8080/",
          "height": 259
        }
      },
      "execution_count": 20,
      "outputs": [
        {
          "output_type": "stream",
          "name": "stdout",
          "text": [
            " * sqlite:///store.db\n",
            "Done.\n"
          ]
        },
        {
          "output_type": "execute_result",
          "data": {
            "text/plain": [
              "[('Sunshine Of Your Love',),\n",
              " ('The Woman King',),\n",
              " ('The Fix',),\n",
              " ('Walkabout',),\n",
              " ('Hot Girl',),\n",
              " ('Gay Witch Hunt',),\n",
              " (\"Phyllis's Wedding\",),\n",
              " ('How to Stop an Exploding Man',),\n",
              " ('Pilot',)]"
            ],
            "text/html": [
              "<table>\n",
              "    <thead>\n",
              "        <tr>\n",
              "            <th>track_name</th>\n",
              "        </tr>\n",
              "    </thead>\n",
              "    <tbody>\n",
              "        <tr>\n",
              "            <td>Sunshine Of Your Love</td>\n",
              "        </tr>\n",
              "        <tr>\n",
              "            <td>The Woman King</td>\n",
              "        </tr>\n",
              "        <tr>\n",
              "            <td>The Fix</td>\n",
              "        </tr>\n",
              "        <tr>\n",
              "            <td>Walkabout</td>\n",
              "        </tr>\n",
              "        <tr>\n",
              "            <td>Hot Girl</td>\n",
              "        </tr>\n",
              "        <tr>\n",
              "            <td>Gay Witch Hunt</td>\n",
              "        </tr>\n",
              "        <tr>\n",
              "            <td>Phyllis&#x27;s Wedding</td>\n",
              "        </tr>\n",
              "        <tr>\n",
              "            <td>How to Stop an Exploding Man</td>\n",
              "        </tr>\n",
              "        <tr>\n",
              "            <td>Pilot</td>\n",
              "        </tr>\n",
              "    </tbody>\n",
              "</table>"
            ]
          },
          "metadata": {},
          "execution_count": 20
        }
      ]
    },
    {
      "cell_type": "markdown",
      "metadata": {
        "id": "epfFVrwEAQzY"
      },
      "source": [
        "## Задание 4\n",
        "Вывести альбом, который является максимальным по продолжительности среди альбомов со стоимостью, большей средней цены за альбом *(цена альбома = сумма цен треков, продолжительность считать аналогично)*."
      ]
    },
    {
      "cell_type": "code",
      "source": [
        "%%sql\n",
        "SELECT a.Title AS album_title\n",
        "FROM albums a\n",
        "JOIN tracks t ON a.AlbumId = t.AlbumId\n",
        "GROUP BY a.AlbumId\n",
        "HAVING\n",
        "    SUM(t.UnitPrice) > (\n",
        "        SELECT AVG(album_price)\n",
        "        FROM (\n",
        "            SELECT SUM(t.UnitPrice) AS album_price\n",
        "            FROM albums a\n",
        "            JOIN tracks t ON a.AlbumId = t.AlbumId\n",
        "            GROUP BY a.AlbumId\n",
        "        )\n",
        "    )\n",
        "ORDER BY SUM(t.Milliseconds) DESC\n",
        "LIMIT 1;\n"
      ],
      "metadata": {
        "id": "2mgltSeo8QYv",
        "outputId": "e443cf89-afd7-40ae-c5e5-3e949187d7b8",
        "colab": {
          "base_uri": "https://localhost:8080/",
          "height": 96
        }
      },
      "execution_count": 28,
      "outputs": [
        {
          "output_type": "stream",
          "name": "stdout",
          "text": [
            " * sqlite:///store.db\n",
            "Done.\n"
          ]
        },
        {
          "output_type": "execute_result",
          "data": {
            "text/plain": [
              "[('Lost, Season 3',)]"
            ],
            "text/html": [
              "<table>\n",
              "    <thead>\n",
              "        <tr>\n",
              "            <th>album_title</th>\n",
              "        </tr>\n",
              "    </thead>\n",
              "    <tbody>\n",
              "        <tr>\n",
              "            <td>Lost, Season 3</td>\n",
              "        </tr>\n",
              "    </tbody>\n",
              "</table>"
            ]
          },
          "metadata": {},
          "execution_count": 28
        }
      ]
    },
    {
      "cell_type": "markdown",
      "metadata": {
        "id": "Bu60tw0tADem"
      },
      "source": [
        "## Задание 5\n",
        "Для каждого исполнителя, у которого есть песни нескольких жанров, найти жанр, по которому он заработал наибольшее количество денег, а также вывести процентное соотношение суммы, заработанной исполнителем по этому жанру к общей сумме заработанных денег. Формат вывода: имя исполнителя, жанр, соотношение."
      ]
    },
    {
      "cell_type": "code",
      "source": [
        "%%sql\n",
        "SELECT a.Name as Name, g.Name as Genre,\n",
        "FROM artists a\n",
        "JOIN albums al ON a.ArtistId = al.ArtistId\n",
        "JOIN tracks t ON al.AlbumId = t.AlbumId\n",
        "JOIN genres g ON t.GenreId = g.GenreId\n",
        "JOIN invoice_items ii ON t.TrackId = ii.TrackId\n",
        "JOIN invoices i ON ii.InvoiceId = i.InvoiceId\n",
        "GROUP BY a.Name\n",
        "HAVING COUNT(DISTINCT t.GenreId) > 1"
      ],
      "metadata": {
        "id": "R4-0ISBy3eiI",
        "outputId": "574eae7d-03ce-449a-9d0f-7256119d4d82",
        "colab": {
          "base_uri": "https://localhost:8080/",
          "height": 505
        }
      },
      "execution_count": 47,
      "outputs": [
        {
          "output_type": "stream",
          "name": "stdout",
          "text": [
            " * sqlite:///store.db\n",
            "Done.\n"
          ]
        },
        {
          "output_type": "execute_result",
          "data": {
            "text/plain": [
              "[('Amy Winehouse', 'R&B/Soul', 100.0),\n",
              " ('Antônio Carlos Jobim', 'Jazz', 100.0),\n",
              " ('Audioslave', 'Rock', 100.0),\n",
              " ('Battlestar Galactica', 'TV Shows', 100.0),\n",
              " ('Eric Clapton', 'Blues', 100.0),\n",
              " ('Faith No More', 'Alternative & Punk', 100.0),\n",
              " ('Foo Fighters', 'Rock', 100.0),\n",
              " ('Gilberto Gil', 'Soundtrack', 100.0),\n",
              " (\"Guns N' Roses\", 'Rock', 100.0),\n",
              " ('Heroes', 'Drama', 100.0),\n",
              " ('Iron Maiden', 'Rock', 100.0),\n",
              " ('Jamiroquai', 'Rock', 100.0),\n",
              " ('Lenny Kravitz', 'Rock', 100.0),\n",
              " ('Lost', 'Drama', 100.0),\n",
              " ('Ozzy Osbourne', 'Rock', 100.0),\n",
              " ('Pearl Jam', 'Rock', 100.0),\n",
              " ('R.E.M.', 'Alternative & Punk', 100.0),\n",
              " ('Red Hot Chili Peppers', 'Alternative & Punk', 100.0),\n",
              " ('The Office', 'TV Shows', 100.0),\n",
              " ('U2', 'Rock', 100.0),\n",
              " ('Various Artists', 'Pop', 100.0)]"
            ],
            "text/html": [
              "<table>\n",
              "    <thead>\n",
              "        <tr>\n",
              "            <th>Name</th>\n",
              "            <th>Genre</th>\n",
              "            <th>Percentage</th>\n",
              "        </tr>\n",
              "    </thead>\n",
              "    <tbody>\n",
              "        <tr>\n",
              "            <td>Amy Winehouse</td>\n",
              "            <td>R&amp;B/Soul</td>\n",
              "            <td>100.0</td>\n",
              "        </tr>\n",
              "        <tr>\n",
              "            <td>Antônio Carlos Jobim</td>\n",
              "            <td>Jazz</td>\n",
              "            <td>100.0</td>\n",
              "        </tr>\n",
              "        <tr>\n",
              "            <td>Audioslave</td>\n",
              "            <td>Rock</td>\n",
              "            <td>100.0</td>\n",
              "        </tr>\n",
              "        <tr>\n",
              "            <td>Battlestar Galactica</td>\n",
              "            <td>TV Shows</td>\n",
              "            <td>100.0</td>\n",
              "        </tr>\n",
              "        <tr>\n",
              "            <td>Eric Clapton</td>\n",
              "            <td>Blues</td>\n",
              "            <td>100.0</td>\n",
              "        </tr>\n",
              "        <tr>\n",
              "            <td>Faith No More</td>\n",
              "            <td>Alternative &amp; Punk</td>\n",
              "            <td>100.0</td>\n",
              "        </tr>\n",
              "        <tr>\n",
              "            <td>Foo Fighters</td>\n",
              "            <td>Rock</td>\n",
              "            <td>100.0</td>\n",
              "        </tr>\n",
              "        <tr>\n",
              "            <td>Gilberto Gil</td>\n",
              "            <td>Soundtrack</td>\n",
              "            <td>100.0</td>\n",
              "        </tr>\n",
              "        <tr>\n",
              "            <td>Guns N&#x27; Roses</td>\n",
              "            <td>Rock</td>\n",
              "            <td>100.0</td>\n",
              "        </tr>\n",
              "        <tr>\n",
              "            <td>Heroes</td>\n",
              "            <td>Drama</td>\n",
              "            <td>100.0</td>\n",
              "        </tr>\n",
              "        <tr>\n",
              "            <td>Iron Maiden</td>\n",
              "            <td>Rock</td>\n",
              "            <td>100.0</td>\n",
              "        </tr>\n",
              "        <tr>\n",
              "            <td>Jamiroquai</td>\n",
              "            <td>Rock</td>\n",
              "            <td>100.0</td>\n",
              "        </tr>\n",
              "        <tr>\n",
              "            <td>Lenny Kravitz</td>\n",
              "            <td>Rock</td>\n",
              "            <td>100.0</td>\n",
              "        </tr>\n",
              "        <tr>\n",
              "            <td>Lost</td>\n",
              "            <td>Drama</td>\n",
              "            <td>100.0</td>\n",
              "        </tr>\n",
              "        <tr>\n",
              "            <td>Ozzy Osbourne</td>\n",
              "            <td>Rock</td>\n",
              "            <td>100.0</td>\n",
              "        </tr>\n",
              "        <tr>\n",
              "            <td>Pearl Jam</td>\n",
              "            <td>Rock</td>\n",
              "            <td>100.0</td>\n",
              "        </tr>\n",
              "        <tr>\n",
              "            <td>R.E.M.</td>\n",
              "            <td>Alternative &amp; Punk</td>\n",
              "            <td>100.0</td>\n",
              "        </tr>\n",
              "        <tr>\n",
              "            <td>Red Hot Chili Peppers</td>\n",
              "            <td>Alternative &amp; Punk</td>\n",
              "            <td>100.0</td>\n",
              "        </tr>\n",
              "        <tr>\n",
              "            <td>The Office</td>\n",
              "            <td>TV Shows</td>\n",
              "            <td>100.0</td>\n",
              "        </tr>\n",
              "        <tr>\n",
              "            <td>U2</td>\n",
              "            <td>Rock</td>\n",
              "            <td>100.0</td>\n",
              "        </tr>\n",
              "        <tr>\n",
              "            <td>Various Artists</td>\n",
              "            <td>Pop</td>\n",
              "            <td>100.0</td>\n",
              "        </tr>\n",
              "    </tbody>\n",
              "</table>"
            ]
          },
          "metadata": {},
          "execution_count": 47
        }
      ]
    }
  ]
}