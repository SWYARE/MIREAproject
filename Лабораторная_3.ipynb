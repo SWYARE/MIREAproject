{
  "nbformat": 4,
  "nbformat_minor": 0,
  "metadata": {
    "kernelspec": {
      "display_name": "Python 3",
      "language": "python",
      "name": "python3"
    },
    "language_info": {
      "codemirror_mode": {
        "name": "ipython",
        "version": 3
      },
      "file_extension": ".py",
      "mimetype": "text/x-python",
      "name": "python",
      "nbconvert_exporter": "python",
      "pygments_lexer": "ipython3",
      "version": "3.7.6"
    },
    "colab": {
      "provenance": []
    }
  },
  "cells": [
    {
      "cell_type": "code",
      "metadata": {
        "id": "exFkotWz7Lk_"
      },
      "source": [
        "%load_ext sql\n",
        "%sql sqlite:///store.db"
      ],
      "execution_count": 1,
      "outputs": []
    },
    {
      "cell_type": "code",
      "source": [
        "%config SqlMagic.style = '_DEPRECATED_DEFAULT'"
      ],
      "metadata": {
        "id": "k9zIHChA7jxM"
      },
      "execution_count": 2,
      "outputs": []
    },
    {
      "cell_type": "markdown",
      "metadata": {
        "id": "8Nwojma57LlH"
      },
      "source": [
        "## Задание 1\n",
        "Вывести страну, где популярнее всего группа Iron Maiden (т.е. треков куплено больше, чем в других странах). Также вывести кол-во купленных треков."
      ]
    },
    {
      "cell_type": "code",
      "source": [
        "%%sql\n",
        "SELECT c.Country as Country, SUM(ii.Quantity) as tracks_count\n",
        "FROM tracks t\n",
        "JOIN invoice_items ii ON t.TrackId = ii.TrackId\n",
        "JOIN invoices i ON ii.InvoiceId = i.InvoiceId\n",
        "JOIN customers c ON i.CustomerId = c.CustomerId\n",
        "JOIN albums a ON t.AlbumId = a.AlbumId\n",
        "JOIN artists ar ON a.ArtistId = ar.ArtistId\n",
        "WHERE ar.Name like 'Iron Maiden'\n",
        "GROUP BY Country\n",
        "ORDER BY COUNT(t.TrackId) DESC\n",
        "LIMIT 1"
      ],
      "metadata": {
        "id": "8CRlncp2EfD1",
        "outputId": "a68db675-8ac4-40ba-b681-a94bb75bb83f",
        "colab": {
          "base_uri": "https://localhost:8080/",
          "height": 98
        }
      },
      "execution_count": 3,
      "outputs": [
        {
          "output_type": "stream",
          "name": "stdout",
          "text": [
            " * sqlite:///store.db\n",
            "Done.\n"
          ]
        },
        {
          "output_type": "execute_result",
          "data": {
            "text/plain": [
              "[('USA', 61)]"
            ],
            "text/html": [
              "<table>\n",
              "    <thead>\n",
              "        <tr>\n",
              "            <th>Country</th>\n",
              "            <th>tracks_count</th>\n",
              "        </tr>\n",
              "    </thead>\n",
              "    <tbody>\n",
              "        <tr>\n",
              "            <td>USA</td>\n",
              "            <td>61</td>\n",
              "        </tr>\n",
              "    </tbody>\n",
              "</table>"
            ]
          },
          "metadata": {},
          "execution_count": 3
        }
      ]
    },
    {
      "cell_type": "markdown",
      "metadata": {
        "id": "nLIbkB-w_aD6"
      },
      "source": [
        "## Задание 2\n",
        "Вывести \"средний по длине\" трек, среди приобретённых компаниями (только клиентами из конкретных компаний) после 22 апреля 2023 года.\n",
        "\"Средний по длине\" = максимально близкий к среднему значению множества треков по длине (не медиана!). Если таких треков несколько, вывести первый по алфавиту."
      ]
    },
    {
      "cell_type": "code",
      "source": [
        "%%sql\n",
        "SELECT t.Name as track_name, t.Milliseconds as track_length\n",
        "FROM tracks t\n",
        "JOIN invoice_items ii ON t.TrackId = ii.TrackId\n",
        "JOIN invoices i ON ii.InvoiceId = i.InvoiceId\n",
        "JOIN customers c ON i.CustomerId = c.CustomerId\n",
        "WHERE c.Company IS NOT NULL AND i.InvoiceDate > '2023-04-22'\n",
        "ORDER BY ABS(t.Milliseconds - (SELECT AVG(Milliseconds) FROM tracks))\n",
        "LIMIT 1"
      ],
      "metadata": {
        "id": "HyW9LeYPDBnN",
        "outputId": "5794aab0-58e4-4119-ed64-05f6c727231d",
        "colab": {
          "base_uri": "https://localhost:8080/",
          "height": 98
        }
      },
      "execution_count": 4,
      "outputs": [
        {
          "output_type": "stream",
          "name": "stdout",
          "text": [
            " * sqlite:///store.db\n",
            "Done.\n"
          ]
        },
        {
          "output_type": "execute_result",
          "data": {
            "text/plain": [
              "[('Ten Years Gone', 393116)]"
            ],
            "text/html": [
              "<table>\n",
              "    <thead>\n",
              "        <tr>\n",
              "            <th>track_name</th>\n",
              "            <th>track_length</th>\n",
              "        </tr>\n",
              "    </thead>\n",
              "    <tbody>\n",
              "        <tr>\n",
              "            <td>Ten Years Gone</td>\n",
              "            <td>393116</td>\n",
              "        </tr>\n",
              "    </tbody>\n",
              "</table>"
            ]
          },
          "metadata": {},
          "execution_count": 4
        }
      ]
    },
    {
      "cell_type": "markdown",
      "source": [
        "## Задание 3\n",
        "\n",
        "Вывести треки, встречающиеся и в нескольких плейлистах, и в нескольких заказах одновременно."
      ],
      "metadata": {
        "id": "Wc2ruoHvkovl"
      }
    },
    {
      "cell_type": "code",
      "source": [
        "%%sql\n",
        "SELECT t.Name as track_name\n",
        "FROM tracks t\n",
        "JOIN playlist_track pt ON t.TrackId = pt.TrackId\n",
        "JOIN invoice_items ii ON t.TrackId = ii.TrackId\n",
        "GROUP BY t.TrackId\n",
        "HAVING COUNT(DISTINCT pt.PlaylistId) > 1 AND COUNT(DISTINCT ii.InvoiceLineId) > 1"
      ],
      "metadata": {
        "id": "2Mautq6ExOFt",
        "outputId": "e334c13d-7008-491f-85fd-e58373e60866",
        "colab": {
          "base_uri": "https://localhost:8080/",
          "height": 259
        }
      },
      "execution_count": null,
      "outputs": [
        {
          "output_type": "stream",
          "name": "stdout",
          "text": [
            " * sqlite:///store.db\n",
            "Done.\n"
          ]
        },
        {
          "output_type": "execute_result",
          "data": {
            "text/plain": [
              "[('Sunshine Of Your Love',),\n",
              " ('The Woman King',),\n",
              " ('The Fix',),\n",
              " ('Walkabout',),\n",
              " ('Hot Girl',),\n",
              " ('Gay Witch Hunt',),\n",
              " (\"Phyllis's Wedding\",),\n",
              " ('How to Stop an Exploding Man',),\n",
              " ('Pilot',)]"
            ],
            "text/html": [
              "<table>\n",
              "    <thead>\n",
              "        <tr>\n",
              "            <th>track_name</th>\n",
              "        </tr>\n",
              "    </thead>\n",
              "    <tbody>\n",
              "        <tr>\n",
              "            <td>Sunshine Of Your Love</td>\n",
              "        </tr>\n",
              "        <tr>\n",
              "            <td>The Woman King</td>\n",
              "        </tr>\n",
              "        <tr>\n",
              "            <td>The Fix</td>\n",
              "        </tr>\n",
              "        <tr>\n",
              "            <td>Walkabout</td>\n",
              "        </tr>\n",
              "        <tr>\n",
              "            <td>Hot Girl</td>\n",
              "        </tr>\n",
              "        <tr>\n",
              "            <td>Gay Witch Hunt</td>\n",
              "        </tr>\n",
              "        <tr>\n",
              "            <td>Phyllis&#x27;s Wedding</td>\n",
              "        </tr>\n",
              "        <tr>\n",
              "            <td>How to Stop an Exploding Man</td>\n",
              "        </tr>\n",
              "        <tr>\n",
              "            <td>Pilot</td>\n",
              "        </tr>\n",
              "    </tbody>\n",
              "</table>"
            ]
          },
          "metadata": {},
          "execution_count": 20
        }
      ]
    },
    {
      "cell_type": "markdown",
      "metadata": {
        "id": "epfFVrwEAQzY"
      },
      "source": [
        "## Задание 4\n",
        "Вывести альбом, который является максимальным по продолжительности среди альбомов со стоимостью, большей средней цены за альбом *(цена альбома = сумма цен треков, продолжительность считать аналогично)*."
      ]
    },
    {
      "cell_type": "code",
      "source": [
        "%%sql\n",
        "SELECT a.Title AS album_title\n",
        "FROM albums a\n",
        "JOIN tracks t ON a.AlbumId = t.AlbumId\n",
        "GROUP BY a.AlbumId\n",
        "HAVING\n",
        "    SUM(t.UnitPrice) > (\n",
        "        SELECT AVG(album_price)\n",
        "        FROM (\n",
        "            SELECT SUM(t.UnitPrice) AS album_price\n",
        "            FROM albums a\n",
        "            JOIN tracks t ON a.AlbumId = t.AlbumId\n",
        "            GROUP BY a.AlbumId\n",
        "        )\n",
        "    )\n",
        "ORDER BY SUM(t.Milliseconds) DESC\n",
        "LIMIT 1;\n"
      ],
      "metadata": {
        "id": "2mgltSeo8QYv",
        "outputId": "e443cf89-afd7-40ae-c5e5-3e949187d7b8",
        "colab": {
          "base_uri": "https://localhost:8080/",
          "height": 96
        }
      },
      "execution_count": null,
      "outputs": [
        {
          "output_type": "stream",
          "name": "stdout",
          "text": [
            " * sqlite:///store.db\n",
            "Done.\n"
          ]
        },
        {
          "output_type": "execute_result",
          "data": {
            "text/plain": [
              "[('Lost, Season 3',)]"
            ],
            "text/html": [
              "<table>\n",
              "    <thead>\n",
              "        <tr>\n",
              "            <th>album_title</th>\n",
              "        </tr>\n",
              "    </thead>\n",
              "    <tbody>\n",
              "        <tr>\n",
              "            <td>Lost, Season 3</td>\n",
              "        </tr>\n",
              "    </tbody>\n",
              "</table>"
            ]
          },
          "metadata": {},
          "execution_count": 28
        }
      ]
    },
    {
      "cell_type": "markdown",
      "metadata": {
        "id": "Bu60tw0tADem"
      },
      "source": [
        "## Задание 5\n",
        "Для каждого исполнителя, у которого есть песни нескольких жанров, найти жанр, по которому он заработал наибольшее количество денег, а также вывести процентное соотношение суммы, заработанной исполнителем по этому жанру к общей сумме заработанных денег. Формат вывода: имя исполнителя, жанр, соотношение."
      ]
    },
    {
      "cell_type": "code",
      "source": [
        "%%sql\n",
        "WITH ArtistEarnings AS(\n",
        "    SELECT\n",
        "        artists.ArtistId,\n",
        "        artists.Name AS ArtistName,\n",
        "        genres.Name AS Genre,\n",
        "        SUM(tracks.UnitPrice * invoice_items.Quantity) AS GenreEarnings\n",
        "        FROM artists\n",
        "    JOIN albums ON artists.ArtistId = albums.ArtistId\n",
        "    JOIN tracks ON albums.AlbumId = tracks.AlbumId\n",
        "    JOIN invoice_items ON invoice_items.TrackId = tracks.TrackId\n",
        "    JOIN genres ON tracks.GenreId = genres.GenreId\n",
        "    GROUP BY artists.ArtistId, genres.GenreId\n",
        "),\n",
        "ArtistTotalEarnings AS (\n",
        "    SELECT ArtistId, ArtistName, SUM(GenreEarnings) AS TotalEarnings\n",
        "    FROM ArtistEarnings\n",
        "    GROUP BY ArtistId\n",
        "),\n",
        "ArtistTopGenre AS(\n",
        "    SELECT ArtistId, ArtistName, Genre, MAX(GenreEarnings) as maxEarningsOnGenre\n",
        "    FROM ArtistEarnings\n",
        "    WHERE ArtistEarnings.ArtistId IN (\n",
        "        SELECT ArtistId\n",
        "        FROM ArtistEarnings\n",
        "        GROUP BY ArtistId\n",
        "        HAVING COUNT(Genre) > 1\n",
        "    )\n",
        "    GROUP BY ArtistId\n",
        "\n",
        ")\n",
        "SELECT ArtistTopGenre.ArtistName as ArtistName, Genre AS TopGenre, ROUND((MaxEarningsOnGenre / TotalEarnings) * 100, 2) as \"EarningsPercentage(%)\"\n",
        "FROM ArtistTopGenre\n",
        "JOIN ArtistTotalEarnings ON ArtistTopGenre.ArtistId = ArtistTotalEarnings.ArtistId\n",
        "ORDER BY \"EarningsPercentage(%)\" DESC;"
      ],
      "metadata": {
        "id": "R4-0ISBy3eiI",
        "outputId": "7f816aa4-26e0-47d9-9caa-2d7db0a892cc",
        "colab": {
          "base_uri": "https://localhost:8080/",
          "height": 520
        }
      },
      "execution_count": 5,
      "outputs": [
        {
          "output_type": "stream",
          "name": "stdout",
          "text": [
            " * sqlite:///store.db\n",
            "Done.\n"
          ]
        },
        {
          "output_type": "execute_result",
          "data": {
            "text/plain": [
              "[('U2', 'Rock', 87.58),\n",
              " ('Faith No More', 'Alternative & Punk', 87.0),\n",
              " ('Pearl Jam', 'Rock', 85.11),\n",
              " ('Foo Fighters', 'Rock', 83.36),\n",
              " ('Heroes', 'Drama', 75.0),\n",
              " ('Eric Clapton', 'Blues', 71.76),\n",
              " ('Various Artists', 'Latin', 69.63),\n",
              " ('R.E.M.', 'Alternative & Punk', 68.75),\n",
              " ('Red Hot Chili Peppers', 'Rock', 67.57),\n",
              " ('Lenny Kravitz', 'Rock', 66.72),\n",
              " (\"Guns N' Roses\", 'Rock', 65.52),\n",
              " ('Antônio Carlos Jobim', 'Latin', 62.94),\n",
              " ('Gilberto Gil', 'Latin', 62.49),\n",
              " ('Jamiroquai', 'R&B/Soul', 57.71),\n",
              " ('Amy Winehouse', 'R&B/Soul', 55.56),\n",
              " ('The Office', 'TV Shows', 53.13),\n",
              " ('Ozzy Osbourne', 'Rock', 52.1),\n",
              " ('Lost', 'TV Shows', 50.91),\n",
              " ('Iron Maiden', 'Metal', 48.8),\n",
              " ('Battlestar Galactica', 'TV Shows', 47.37),\n",
              " ('Audioslave', 'Alternative & Punk', 40.78)]"
            ],
            "text/html": [
              "<table>\n",
              "    <thead>\n",
              "        <tr>\n",
              "            <th>ArtistName</th>\n",
              "            <th>TopGenre</th>\n",
              "            <th>EarningsPercentage(%)</th>\n",
              "        </tr>\n",
              "    </thead>\n",
              "    <tbody>\n",
              "        <tr>\n",
              "            <td>U2</td>\n",
              "            <td>Rock</td>\n",
              "            <td>87.58</td>\n",
              "        </tr>\n",
              "        <tr>\n",
              "            <td>Faith No More</td>\n",
              "            <td>Alternative &amp; Punk</td>\n",
              "            <td>87.0</td>\n",
              "        </tr>\n",
              "        <tr>\n",
              "            <td>Pearl Jam</td>\n",
              "            <td>Rock</td>\n",
              "            <td>85.11</td>\n",
              "        </tr>\n",
              "        <tr>\n",
              "            <td>Foo Fighters</td>\n",
              "            <td>Rock</td>\n",
              "            <td>83.36</td>\n",
              "        </tr>\n",
              "        <tr>\n",
              "            <td>Heroes</td>\n",
              "            <td>Drama</td>\n",
              "            <td>75.0</td>\n",
              "        </tr>\n",
              "        <tr>\n",
              "            <td>Eric Clapton</td>\n",
              "            <td>Blues</td>\n",
              "            <td>71.76</td>\n",
              "        </tr>\n",
              "        <tr>\n",
              "            <td>Various Artists</td>\n",
              "            <td>Latin</td>\n",
              "            <td>69.63</td>\n",
              "        </tr>\n",
              "        <tr>\n",
              "            <td>R.E.M.</td>\n",
              "            <td>Alternative &amp; Punk</td>\n",
              "            <td>68.75</td>\n",
              "        </tr>\n",
              "        <tr>\n",
              "            <td>Red Hot Chili Peppers</td>\n",
              "            <td>Rock</td>\n",
              "            <td>67.57</td>\n",
              "        </tr>\n",
              "        <tr>\n",
              "            <td>Lenny Kravitz</td>\n",
              "            <td>Rock</td>\n",
              "            <td>66.72</td>\n",
              "        </tr>\n",
              "        <tr>\n",
              "            <td>Guns N&#x27; Roses</td>\n",
              "            <td>Rock</td>\n",
              "            <td>65.52</td>\n",
              "        </tr>\n",
              "        <tr>\n",
              "            <td>Antônio Carlos Jobim</td>\n",
              "            <td>Latin</td>\n",
              "            <td>62.94</td>\n",
              "        </tr>\n",
              "        <tr>\n",
              "            <td>Gilberto Gil</td>\n",
              "            <td>Latin</td>\n",
              "            <td>62.49</td>\n",
              "        </tr>\n",
              "        <tr>\n",
              "            <td>Jamiroquai</td>\n",
              "            <td>R&amp;B/Soul</td>\n",
              "            <td>57.71</td>\n",
              "        </tr>\n",
              "        <tr>\n",
              "            <td>Amy Winehouse</td>\n",
              "            <td>R&amp;B/Soul</td>\n",
              "            <td>55.56</td>\n",
              "        </tr>\n",
              "        <tr>\n",
              "            <td>The Office</td>\n",
              "            <td>TV Shows</td>\n",
              "            <td>53.13</td>\n",
              "        </tr>\n",
              "        <tr>\n",
              "            <td>Ozzy Osbourne</td>\n",
              "            <td>Rock</td>\n",
              "            <td>52.1</td>\n",
              "        </tr>\n",
              "        <tr>\n",
              "            <td>Lost</td>\n",
              "            <td>TV Shows</td>\n",
              "            <td>50.91</td>\n",
              "        </tr>\n",
              "        <tr>\n",
              "            <td>Iron Maiden</td>\n",
              "            <td>Metal</td>\n",
              "            <td>48.8</td>\n",
              "        </tr>\n",
              "        <tr>\n",
              "            <td>Battlestar Galactica</td>\n",
              "            <td>TV Shows</td>\n",
              "            <td>47.37</td>\n",
              "        </tr>\n",
              "        <tr>\n",
              "            <td>Audioslave</td>\n",
              "            <td>Alternative &amp; Punk</td>\n",
              "            <td>40.78</td>\n",
              "        </tr>\n",
              "    </tbody>\n",
              "</table>"
            ]
          },
          "metadata": {},
          "execution_count": 5
        }
      ]
    }
  ]
}